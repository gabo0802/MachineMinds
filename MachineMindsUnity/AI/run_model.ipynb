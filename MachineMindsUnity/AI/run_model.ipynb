{
 "cells": [
  {
   "cell_type": "code",
   "execution_count": 1,
   "metadata": {},
   "outputs": [],
   "source": [
    "from joblib import dump, load\n",
    "import sklearn\n",
    "from sklearn.tree import DecisionTreeClassifier\n",
    "import pandas as pd\n",
    "import numpy as np\n",
    "import sys"
   ]
  },
  {
   "cell_type": "code",
   "execution_count": 35,
   "metadata": {},
   "outputs": [],
   "source": [
    "def get_ai_model_value(x_data):\n",
    "    dt = DecisionTreeClassifier()\n",
    "    dt = load('filename.joblib')\n",
    "    return dt.predict(x_data)"
   ]
  },
  {
   "cell_type": "code",
   "execution_count": null,
   "metadata": {},
   "outputs": [
    {
     "name": "stdout",
     "output_type": "stream",
     "text": [
      "   currentDifficulty  currentPlayerLives  levelsBeat  playerLifeTimer  \\\n",
      "0                  2                   2           0         44.74899   \n",
      "\n",
      "   totalEnemiesKilled  totalPoints  \n",
      "0                 555       540000  \n",
      "[-1]\n"
     ]
    }
   ],
   "source": [
    "x_value = pd.DataFrame()\n",
    "\n",
    "#[5, 0, 0, 2, 44.748990, 0, 0]\n",
    "\n",
    "x_value['currentDifficulty'] = [2]\n",
    "x_value['currentPlayerLives'] = [2]\n",
    "x_value['levelsBeat'] = [0]\n",
    "x_value['playerLifeTimer'] = [44.748990]\n",
    "x_value['totalEnemiesKilled'] = [555]\n",
    "x_value['totalPoints'] = [540000]\n",
    "\n",
    "print(x_value)\n",
    "print(get_ai_model_value(x_value))"
   ]
  }
 ],
 "metadata": {
  "kernelspec": {
   "display_name": "base",
   "language": "python",
   "name": "python3"
  },
  "language_info": {
   "codemirror_mode": {
    "name": "ipython",
    "version": 3
   },
   "file_extension": ".py",
   "mimetype": "text/x-python",
   "name": "python",
   "nbconvert_exporter": "python",
   "pygments_lexer": "ipython3",
   "version": "3.12.4"
  }
 },
 "nbformat": 4,
 "nbformat_minor": 2
}
